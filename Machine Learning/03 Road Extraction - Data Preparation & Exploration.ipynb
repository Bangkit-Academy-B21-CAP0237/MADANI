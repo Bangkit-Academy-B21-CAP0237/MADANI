{
  "nbformat": 4,
  "nbformat_minor": 0,
  "metadata": {
    "colab": {
      "name": "03 Road Extraction - Data Preparation and Exploration.ipynb",
      "provenance": [],
      "toc_visible": true
    },
    "kernelspec": {
      "name": "python3",
      "display_name": "Python 3"
    },
    "language_info": {
      "name": "python"
    }
  },
  "cells": [
    {
      "cell_type": "markdown",
      "metadata": {
        "id": "cWI52O47b8q2"
      },
      "source": [
        "# Import Libraries"
      ]
    },
    {
      "cell_type": "code",
      "metadata": {
        "id": "skuejJcZb8c-"
      },
      "source": [
        "import os\n",
        "import zipfile\n",
        "import pandas as pd\n",
        "import numpy as np\n",
        "import cv2\n",
        "from tqdm import tqdm"
      ],
      "execution_count": 1,
      "outputs": []
    },
    {
      "cell_type": "markdown",
      "metadata": {
        "id": "r--KrSMybf_l"
      },
      "source": [
        "# Load Data from Kaggle"
      ]
    },
    {
      "cell_type": "code",
      "metadata": {
        "colab": {
          "resources": {
            "http://localhost:8080/nbextensions/google.colab/files.js": {
              "data": "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",
              "ok": true,
              "headers": [
                [
                  "content-type",
                  "application/javascript"
                ]
              ],
              "status": 200,
              "status_text": ""
            }
          },
          "base_uri": "https://localhost:8080/",
          "height": 330
        },
        "id": "LAVeKrI1a7pK",
        "outputId": "dba8cb23-cfe7-469e-fd64-2349d15e47c1"
      },
      "source": [
        "!pip install kaggle\n",
        "from google.colab import files\n",
        "files.upload()\n",
        "\n",
        "!mkdir -p ~/.kaggle\n",
        "!cp kaggle.json ~/.kaggle/ \n",
        "!chmod 600 ~/.kaggle/kaggle.json\n",
        "\n",
        "!kaggle datasets download -d balraj98/deepglobe-road-extraction-dataset"
      ],
      "execution_count": 2,
      "outputs": [
        {
          "output_type": "stream",
          "text": [
            "Requirement already satisfied: kaggle in /usr/local/lib/python3.7/dist-packages (1.5.12)\n",
            "Requirement already satisfied: requests in /usr/local/lib/python3.7/dist-packages (from kaggle) (2.23.0)\n",
            "Requirement already satisfied: six>=1.10 in /usr/local/lib/python3.7/dist-packages (from kaggle) (1.15.0)\n",
            "Requirement already satisfied: tqdm in /usr/local/lib/python3.7/dist-packages (from kaggle) (4.41.1)\n",
            "Requirement already satisfied: certifi in /usr/local/lib/python3.7/dist-packages (from kaggle) (2020.12.5)\n",
            "Requirement already satisfied: urllib3 in /usr/local/lib/python3.7/dist-packages (from kaggle) (1.24.3)\n",
            "Requirement already satisfied: python-dateutil in /usr/local/lib/python3.7/dist-packages (from kaggle) (2.8.1)\n",
            "Requirement already satisfied: python-slugify in /usr/local/lib/python3.7/dist-packages (from kaggle) (5.0.2)\n",
            "Requirement already satisfied: chardet<4,>=3.0.2 in /usr/local/lib/python3.7/dist-packages (from requests->kaggle) (3.0.4)\n",
            "Requirement already satisfied: idna<3,>=2.5 in /usr/local/lib/python3.7/dist-packages (from requests->kaggle) (2.10)\n",
            "Requirement already satisfied: text-unidecode>=1.3 in /usr/local/lib/python3.7/dist-packages (from python-slugify->kaggle) (1.3)\n"
          ],
          "name": "stdout"
        },
        {
          "output_type": "display_data",
          "data": {
            "text/html": [
              "\n",
              "     <input type=\"file\" id=\"files-b3db3ea6-0a5e-4e17-bc7a-ebb9d5fc96be\" name=\"files[]\" multiple disabled\n",
              "        style=\"border:none\" />\n",
              "     <output id=\"result-b3db3ea6-0a5e-4e17-bc7a-ebb9d5fc96be\">\n",
              "      Upload widget is only available when the cell has been executed in the\n",
              "      current browser session. Please rerun this cell to enable.\n",
              "      </output>\n",
              "      <script src=\"/nbextensions/google.colab/files.js\"></script> "
            ],
            "text/plain": [
              "<IPython.core.display.HTML object>"
            ]
          },
          "metadata": {
            "tags": []
          }
        },
        {
          "output_type": "stream",
          "text": [
            "Saving kaggle.json to kaggle.json\n",
            "Downloading deepglobe-road-extraction-dataset.zip to /content\n",
            "100% 3.79G/3.79G [00:48<00:00, 63.4MB/s]\n",
            "\n"
          ],
          "name": "stdout"
        }
      ]
    },
    {
      "cell_type": "markdown",
      "metadata": {
        "id": "e4sQl1A5boqk"
      },
      "source": [
        "# Extract Data"
      ]
    },
    {
      "cell_type": "code",
      "metadata": {
        "colab": {
          "base_uri": "https://localhost:8080/"
        },
        "id": "pwjLdbCmboLY",
        "outputId": "0b78c00e-646a-4efa-8530-1b1a03bdd1bf"
      },
      "source": [
        "os.mkdir('/content/dataset')\n",
        "\n",
        "path = '/content/deepglobe-road-extraction-dataset.zip'\n",
        "dest = '/content/dataset'\n",
        "\n",
        "with zipfile.ZipFile(path, 'r') as zip_ref:\n",
        "  zip_ref.extractall(dest)\n",
        "  print('Zip is done extracting!')"
      ],
      "execution_count": 3,
      "outputs": [
        {
          "output_type": "stream",
          "text": [
            "Zip is done extracting!\n"
          ],
          "name": "stdout"
        }
      ]
    },
    {
      "cell_type": "markdown",
      "metadata": {
        "id": "E4ZaZDmXb3Z_"
      },
      "source": [
        "# Data Preprocessing"
      ]
    },
    {
      "cell_type": "markdown",
      "metadata": {
        "id": "yBWisMdkzjQ_"
      },
      "source": [
        "## Observe the dataset from the CSV"
      ]
    },
    {
      "cell_type": "code",
      "metadata": {
        "id": "xnIOhkzAzi_R"
      },
      "source": [
        "path = '/content/dataset/'\n",
        "csv_path = os.path.join(path, 'metadata.csv')\n",
        "df = pd.read_csv(csv_path)"
      ],
      "execution_count": 4,
      "outputs": []
    },
    {
      "cell_type": "code",
      "metadata": {
        "colab": {
          "base_uri": "https://localhost:8080/",
          "height": 204
        },
        "id": "WlEnri9Yzwc3",
        "outputId": "d6991071-6809-4d51-d42f-880aab7f09ba"
      },
      "source": [
        "df.head()"
      ],
      "execution_count": 5,
      "outputs": [
        {
          "output_type": "execute_result",
          "data": {
            "text/html": [
              "<div>\n",
              "<style scoped>\n",
              "    .dataframe tbody tr th:only-of-type {\n",
              "        vertical-align: middle;\n",
              "    }\n",
              "\n",
              "    .dataframe tbody tr th {\n",
              "        vertical-align: top;\n",
              "    }\n",
              "\n",
              "    .dataframe thead th {\n",
              "        text-align: right;\n",
              "    }\n",
              "</style>\n",
              "<table border=\"1\" class=\"dataframe\">\n",
              "  <thead>\n",
              "    <tr style=\"text-align: right;\">\n",
              "      <th></th>\n",
              "      <th>image_id</th>\n",
              "      <th>split</th>\n",
              "      <th>sat_image_path</th>\n",
              "      <th>mask_path</th>\n",
              "    </tr>\n",
              "  </thead>\n",
              "  <tbody>\n",
              "    <tr>\n",
              "      <th>0</th>\n",
              "      <td>100034</td>\n",
              "      <td>train</td>\n",
              "      <td>train/100034_sat.jpg</td>\n",
              "      <td>train/100034_mask.png</td>\n",
              "    </tr>\n",
              "    <tr>\n",
              "      <th>1</th>\n",
              "      <td>100081</td>\n",
              "      <td>train</td>\n",
              "      <td>train/100081_sat.jpg</td>\n",
              "      <td>train/100081_mask.png</td>\n",
              "    </tr>\n",
              "    <tr>\n",
              "      <th>2</th>\n",
              "      <td>100129</td>\n",
              "      <td>train</td>\n",
              "      <td>train/100129_sat.jpg</td>\n",
              "      <td>train/100129_mask.png</td>\n",
              "    </tr>\n",
              "    <tr>\n",
              "      <th>3</th>\n",
              "      <td>100703</td>\n",
              "      <td>train</td>\n",
              "      <td>train/100703_sat.jpg</td>\n",
              "      <td>train/100703_mask.png</td>\n",
              "    </tr>\n",
              "    <tr>\n",
              "      <th>4</th>\n",
              "      <td>100712</td>\n",
              "      <td>train</td>\n",
              "      <td>train/100712_sat.jpg</td>\n",
              "      <td>train/100712_mask.png</td>\n",
              "    </tr>\n",
              "  </tbody>\n",
              "</table>\n",
              "</div>"
            ],
            "text/plain": [
              "   image_id  split        sat_image_path              mask_path\n",
              "0    100034  train  train/100034_sat.jpg  train/100034_mask.png\n",
              "1    100081  train  train/100081_sat.jpg  train/100081_mask.png\n",
              "2    100129  train  train/100129_sat.jpg  train/100129_mask.png\n",
              "3    100703  train  train/100703_sat.jpg  train/100703_mask.png\n",
              "4    100712  train  train/100712_sat.jpg  train/100712_mask.png"
            ]
          },
          "metadata": {
            "tags": []
          },
          "execution_count": 5
        }
      ]
    },
    {
      "cell_type": "code",
      "metadata": {
        "colab": {
          "base_uri": "https://localhost:8080/"
        },
        "id": "QTlZp5rpzx5z",
        "outputId": "22efe766-dcf9-4d84-941d-6d9cb42d2182"
      },
      "source": [
        "df['split'].unique()"
      ],
      "execution_count": 6,
      "outputs": [
        {
          "output_type": "execute_result",
          "data": {
            "text/plain": [
              "array(['train', 'valid', 'test'], dtype=object)"
            ]
          },
          "metadata": {
            "tags": []
          },
          "execution_count": 6
        }
      ]
    },
    {
      "cell_type": "markdown",
      "metadata": {
        "id": "zkH9922EcM4h"
      },
      "source": [
        "## Split only training data from the dataset\n"
      ]
    },
    {
      "cell_type": "code",
      "metadata": {
        "colab": {
          "base_uri": "https://localhost:8080/"
        },
        "id": "YQALzglTbvX3",
        "outputId": "ae5cb680-23dc-4b75-c7bf-348ebaa4b054"
      },
      "source": [
        "train = df[df['split'] == 'train']\n",
        "train['split'].unique()"
      ],
      "execution_count": 7,
      "outputs": [
        {
          "output_type": "execute_result",
          "data": {
            "text/plain": [
              "array(['train'], dtype=object)"
            ]
          },
          "metadata": {
            "tags": []
          },
          "execution_count": 7
        }
      ]
    },
    {
      "cell_type": "markdown",
      "metadata": {
        "id": "OZz-DUDc0NDH"
      },
      "source": [
        "### We only need to access the image id and the directory to the images, so we can just drop the split column since it's all training images."
      ]
    },
    {
      "cell_type": "code",
      "metadata": {
        "colab": {
          "base_uri": "https://localhost:8080/",
          "height": 204
        },
        "id": "IfV-MusL0fpF",
        "outputId": "a83c865e-f984-4cee-fa27-c60fb7eaddc6"
      },
      "source": [
        "train = train[['image_id', 'sat_image_path', 'mask_path']]\n",
        "train.head()"
      ],
      "execution_count": 8,
      "outputs": [
        {
          "output_type": "execute_result",
          "data": {
            "text/html": [
              "<div>\n",
              "<style scoped>\n",
              "    .dataframe tbody tr th:only-of-type {\n",
              "        vertical-align: middle;\n",
              "    }\n",
              "\n",
              "    .dataframe tbody tr th {\n",
              "        vertical-align: top;\n",
              "    }\n",
              "\n",
              "    .dataframe thead th {\n",
              "        text-align: right;\n",
              "    }\n",
              "</style>\n",
              "<table border=\"1\" class=\"dataframe\">\n",
              "  <thead>\n",
              "    <tr style=\"text-align: right;\">\n",
              "      <th></th>\n",
              "      <th>image_id</th>\n",
              "      <th>sat_image_path</th>\n",
              "      <th>mask_path</th>\n",
              "    </tr>\n",
              "  </thead>\n",
              "  <tbody>\n",
              "    <tr>\n",
              "      <th>0</th>\n",
              "      <td>100034</td>\n",
              "      <td>train/100034_sat.jpg</td>\n",
              "      <td>train/100034_mask.png</td>\n",
              "    </tr>\n",
              "    <tr>\n",
              "      <th>1</th>\n",
              "      <td>100081</td>\n",
              "      <td>train/100081_sat.jpg</td>\n",
              "      <td>train/100081_mask.png</td>\n",
              "    </tr>\n",
              "    <tr>\n",
              "      <th>2</th>\n",
              "      <td>100129</td>\n",
              "      <td>train/100129_sat.jpg</td>\n",
              "      <td>train/100129_mask.png</td>\n",
              "    </tr>\n",
              "    <tr>\n",
              "      <th>3</th>\n",
              "      <td>100703</td>\n",
              "      <td>train/100703_sat.jpg</td>\n",
              "      <td>train/100703_mask.png</td>\n",
              "    </tr>\n",
              "    <tr>\n",
              "      <th>4</th>\n",
              "      <td>100712</td>\n",
              "      <td>train/100712_sat.jpg</td>\n",
              "      <td>train/100712_mask.png</td>\n",
              "    </tr>\n",
              "  </tbody>\n",
              "</table>\n",
              "</div>"
            ],
            "text/plain": [
              "   image_id        sat_image_path              mask_path\n",
              "0    100034  train/100034_sat.jpg  train/100034_mask.png\n",
              "1    100081  train/100081_sat.jpg  train/100081_mask.png\n",
              "2    100129  train/100129_sat.jpg  train/100129_mask.png\n",
              "3    100703  train/100703_sat.jpg  train/100703_mask.png\n",
              "4    100712  train/100712_sat.jpg  train/100712_mask.png"
            ]
          },
          "metadata": {
            "tags": []
          },
          "execution_count": 8
        }
      ]
    },
    {
      "cell_type": "markdown",
      "metadata": {
        "id": "GaaboZsWdP-N"
      },
      "source": [
        "## Set directory to the images same as the directory in our colab"
      ]
    },
    {
      "cell_type": "code",
      "metadata": {
        "id": "R0Kt-V9zcGu1"
      },
      "source": [
        "train['sat_image_path'] = train['sat_image_path'].apply(lambda img_pth: os.path.join(path, img_pth))\n",
        "train['mask_path'] = train['mask_path'].apply(lambda img_pth: os.path.join(path, img_pth))"
      ],
      "execution_count": 9,
      "outputs": []
    },
    {
      "cell_type": "markdown",
      "metadata": {
        "id": "nLTE3HfZ1Xs2"
      },
      "source": [
        "## Randomize our main training dataset"
      ]
    },
    {
      "cell_type": "code",
      "metadata": {
        "id": "f3ZLPdEH1XFG"
      },
      "source": [
        "train = train.sample(frac = 1).reset_index(drop = True)"
      ],
      "execution_count": 10,
      "outputs": []
    },
    {
      "cell_type": "markdown",
      "metadata": {
        "id": "5D5IMEvbdZ2k"
      },
      "source": [
        "## Set train csv into 1000 training data (optional for optimizing)"
      ]
    },
    {
      "cell_type": "code",
      "metadata": {
        "id": "JRXVR27tdhYB"
      },
      "source": [
        "small_train = train.sample(1000).reset_index(drop=True)"
      ],
      "execution_count": 11,
      "outputs": []
    },
    {
      "cell_type": "markdown",
      "metadata": {
        "id": "BxC9Lnmrdnkm"
      },
      "source": [
        "# Custom Data Generator"
      ]
    },
    {
      "cell_type": "markdown",
      "metadata": {
        "id": "iWMysKgBds_T"
      },
      "source": [
        "## Empty numpy arrays for our training data"
      ]
    },
    {
      "cell_type": "code",
      "metadata": {
        "id": "udHuvToxdkiF"
      },
      "source": [
        "images = np.zeros((1000, 256, 256, 3)).astype('float')\n",
        "masks = np.zeros((1000, 256, 256, 1)).astype('float')"
      ],
      "execution_count": 12,
      "outputs": []
    },
    {
      "cell_type": "markdown",
      "metadata": {
        "id": "XmMc6R5ReF2s"
      },
      "source": [
        "## Convert training images into numpy arrays and assign them into the empty numpy arrays"
      ]
    },
    {
      "cell_type": "code",
      "metadata": {
        "colab": {
          "base_uri": "https://localhost:8080/"
        },
        "id": "1mpIMSy5ePo2",
        "outputId": "55aaccc1-b74c-495b-bd87-daee54974ea6"
      },
      "source": [
        "data_length = len(small_train)\n",
        "\n",
        "for i in tqdm(range(data_length)):\n",
        "  img = cv2.imread(small_train['sat_image_path'][i])/255.\n",
        "  mask = cv2.imread(small_train['mask_path'][i], cv2.IMREAD_GRAYSCALE)/255.\n",
        "  img =  cv2.resize(img, (256, 256))\n",
        "  mask = cv2.resize(mask, (256, 256))\n",
        "  mask = mask.reshape(256, 256, 1)\n",
        "  images[i] = img\n",
        "  masks[i] = mask\n",
        "  del img, mask"
      ],
      "execution_count": 13,
      "outputs": [
        {
          "output_type": "stream",
          "text": [
            "100%|██████████| 1000/1000 [00:50<00:00, 19.74it/s]\n"
          ],
          "name": "stderr"
        }
      ]
    },
    {
      "cell_type": "markdown",
      "metadata": {
        "id": "VCNOwTIT2OQC"
      },
      "source": [
        "## Now the data is ready for training"
      ]
    },
    {
      "cell_type": "code",
      "metadata": {
        "colab": {
          "base_uri": "https://localhost:8080/"
        },
        "id": "xh0qUW-f2Bfp",
        "outputId": "6d623fec-05c5-4da4-805f-af074a612f91"
      },
      "source": [
        "images"
      ],
      "execution_count": 14,
      "outputs": [
        {
          "output_type": "execute_result",
          "data": {
            "text/plain": [
              "array([[[[0.27843137, 0.40784314, 0.6       ],\n",
              "         [0.29117647, 0.4254902 , 0.61862745],\n",
              "         [0.26470588, 0.40392157, 0.58039216],\n",
              "         ...,\n",
              "         [0.13137255, 0.21372549, 0.17254902],\n",
              "         [0.15490196, 0.24607843, 0.20784314],\n",
              "         [0.17647059, 0.27058824, 0.2254902 ]],\n",
              "\n",
              "        [[0.28039216, 0.41470588, 0.59803922],\n",
              "         [0.28823529, 0.41862745, 0.60196078],\n",
              "         [0.30784314, 0.43627451, 0.6       ],\n",
              "         ...,\n",
              "         [0.13137255, 0.20882353, 0.16470588],\n",
              "         [0.13921569, 0.21764706, 0.18235294],\n",
              "         [0.15686275, 0.22745098, 0.19215686]],\n",
              "\n",
              "        [[0.31862745, 0.44215686, 0.62254902],\n",
              "         [0.28137255, 0.39215686, 0.57941176],\n",
              "         [0.23431373, 0.34019608, 0.49901961],\n",
              "         ...,\n",
              "         [0.14607843, 0.2245098 , 0.17745098],\n",
              "         [0.15      , 0.22352941, 0.18529412],\n",
              "         [0.15784314, 0.2245098 , 0.18921569]],\n",
              "\n",
              "        ...,\n",
              "\n",
              "        [[0.33137255, 0.49117647, 0.64705882],\n",
              "         [0.30784314, 0.45392157, 0.59215686],\n",
              "         [0.30196078, 0.4372549 , 0.56078431],\n",
              "         ...,\n",
              "         [0.21078431, 0.30588235, 0.3       ],\n",
              "         [0.18529412, 0.29215686, 0.35098039],\n",
              "         [0.2872549 , 0.4245098 , 0.54019608]],\n",
              "\n",
              "        [[0.30392157, 0.47058824, 0.6372549 ],\n",
              "         [0.29901961, 0.46078431, 0.61666667],\n",
              "         [0.34215686, 0.49411765, 0.64019608],\n",
              "         ...,\n",
              "         [0.16862745, 0.26470588, 0.26470588],\n",
              "         [0.18529412, 0.29313725, 0.35392157],\n",
              "         [0.31078431, 0.43431373, 0.54019608]],\n",
              "\n",
              "        [[0.30392157, 0.44411765, 0.58921569],\n",
              "         [0.34607843, 0.49313725, 0.63627451],\n",
              "         [0.32352941, 0.4754902 , 0.62254902],\n",
              "         ...,\n",
              "         [0.18823529, 0.27843137, 0.27843137],\n",
              "         [0.21666667, 0.33823529, 0.39705882],\n",
              "         [0.30294118, 0.44803922, 0.54607843]]],\n",
              "\n",
              "\n",
              "       [[[0.21764706, 0.21764706, 0.19411765],\n",
              "         [0.23823529, 0.24215686, 0.20686275],\n",
              "         [0.20882353, 0.21078431, 0.18137255],\n",
              "         ...,\n",
              "         [0.24607843, 0.25098039, 0.22352941],\n",
              "         [0.20882353, 0.22647059, 0.24117647],\n",
              "         [0.2745098 , 0.31666667, 0.32941176]],\n",
              "\n",
              "        [[0.22254902, 0.22254902, 0.19901961],\n",
              "         [0.22156863, 0.21666667, 0.19215686],\n",
              "         [0.23431373, 0.22254902, 0.2       ],\n",
              "         ...,\n",
              "         [0.20882353, 0.21764706, 0.21764706],\n",
              "         [0.16176471, 0.19509804, 0.23823529],\n",
              "         [0.13431373, 0.19509804, 0.25196078]],\n",
              "\n",
              "        [[0.23039216, 0.22941176, 0.20098039],\n",
              "         [0.22254902, 0.21078431, 0.19117647],\n",
              "         [0.23039216, 0.21470588, 0.19509804],\n",
              "         ...,\n",
              "         [0.21666667, 0.24803922, 0.26176471],\n",
              "         [0.35392157, 0.41470588, 0.43235294],\n",
              "         [0.48529412, 0.55784314, 0.58921569]],\n",
              "\n",
              "        ...,\n",
              "\n",
              "        [[0.32254902, 0.44215686, 0.52058824],\n",
              "         [0.40392157, 0.51666667, 0.57647059],\n",
              "         [0.39411765, 0.47843137, 0.50980392],\n",
              "         ...,\n",
              "         [0.21470588, 0.22647059, 0.20294118],\n",
              "         [0.24019608, 0.26470588, 0.2372549 ],\n",
              "         [0.21862745, 0.26372549, 0.26764706]],\n",
              "\n",
              "        [[0.41078431, 0.50392157, 0.56176471],\n",
              "         [0.37156863, 0.46176471, 0.50686275],\n",
              "         [0.3872549 , 0.45784314, 0.49215686],\n",
              "         ...,\n",
              "         [0.1872549 , 0.23529412, 0.19901961],\n",
              "         [0.2372549 , 0.29509804, 0.25490196],\n",
              "         [0.30686275, 0.36960784, 0.36764706]],\n",
              "\n",
              "        [[0.38235294, 0.46568627, 0.51372549],\n",
              "         [0.34215686, 0.42843137, 0.47254902],\n",
              "         [0.43333333, 0.47843137, 0.51372549],\n",
              "         ...,\n",
              "         [0.24509804, 0.3254902 , 0.28431373],\n",
              "         [0.25588235, 0.32843137, 0.28529412],\n",
              "         [0.18039216, 0.25490196, 0.25490196]]],\n",
              "\n",
              "\n",
              "       [[[0.28823529, 0.43039216, 0.54215686],\n",
              "         [0.29607843, 0.44117647, 0.54705882],\n",
              "         [0.29117647, 0.43627451, 0.53823529],\n",
              "         ...,\n",
              "         [0.23333333, 0.31764706, 0.36078431],\n",
              "         [0.37058824, 0.47156863, 0.5127451 ],\n",
              "         [0.35490196, 0.46764706, 0.52058824]],\n",
              "\n",
              "        [[0.27745098, 0.42254902, 0.53039216],\n",
              "         [0.28039216, 0.4254902 , 0.52941176],\n",
              "         [0.28823529, 0.43333333, 0.54313725],\n",
              "         ...,\n",
              "         [0.32352941, 0.41470588, 0.45784314],\n",
              "         [0.21176471, 0.31372549, 0.35294118],\n",
              "         [0.33039216, 0.4372549 , 0.48431373]],\n",
              "\n",
              "        [[0.29411765, 0.43921569, 0.54901961],\n",
              "         [0.30686275, 0.44607843, 0.55784314],\n",
              "         [0.3127451 , 0.44607843, 0.55980392],\n",
              "         ...,\n",
              "         [0.39705882, 0.50882353, 0.55784314],\n",
              "         [0.3872549 , 0.49509804, 0.53627451],\n",
              "         [0.3254902 , 0.42745098, 0.4745098 ]],\n",
              "\n",
              "        ...,\n",
              "\n",
              "        [[0.27254902, 0.41568627, 0.52156863],\n",
              "         [0.26960784, 0.41078431, 0.51666667],\n",
              "         [0.26666667, 0.41176471, 0.51764706],\n",
              "         ...,\n",
              "         [0.15882353, 0.25294118, 0.27647059],\n",
              "         [0.14803922, 0.24019608, 0.26764706],\n",
              "         [0.16862745, 0.25784314, 0.29215686]],\n",
              "\n",
              "        [[0.25294118, 0.40196078, 0.51960784],\n",
              "         [0.38921569, 0.54215686, 0.65490196],\n",
              "         [0.34803922, 0.50196078, 0.61568627],\n",
              "         ...,\n",
              "         [0.15784314, 0.24509804, 0.27058824],\n",
              "         [0.16176471, 0.24803922, 0.27941176],\n",
              "         [0.17941176, 0.25784314, 0.30098039]],\n",
              "\n",
              "        [[0.3254902 , 0.4745098 , 0.6       ],\n",
              "         [0.40294118, 0.55980392, 0.67352941],\n",
              "         [0.40392157, 0.56078431, 0.6745098 ],\n",
              "         ...,\n",
              "         [0.20980392, 0.29803922, 0.31176471],\n",
              "         [0.16078431, 0.24803922, 0.26568627],\n",
              "         [0.18235294, 0.26470588, 0.29019608]]],\n",
              "\n",
              "\n",
              "       ...,\n",
              "\n",
              "\n",
              "       [[[0.23627451, 0.30980392, 0.30490196],\n",
              "         [0.24607843, 0.30490196, 0.29901961],\n",
              "         [0.25784314, 0.3127451 , 0.30490196],\n",
              "         ...,\n",
              "         [0.27352941, 0.33627451, 0.31470588],\n",
              "         [0.25098039, 0.31764706, 0.29607843],\n",
              "         [0.26078431, 0.33235294, 0.30980392]],\n",
              "\n",
              "        [[0.25196078, 0.3127451 , 0.30294118],\n",
              "         [0.25      , 0.30490196, 0.29705882],\n",
              "         [0.27058824, 0.32843137, 0.31960784],\n",
              "         ...,\n",
              "         [0.25588235, 0.31862745, 0.31470588],\n",
              "         [0.25      , 0.3127451 , 0.30882353],\n",
              "         [0.24117647, 0.30980392, 0.30588235]],\n",
              "\n",
              "        [[0.27156863, 0.32941176, 0.32058824],\n",
              "         [0.27254902, 0.33235294, 0.3245098 ],\n",
              "         [0.2372549 , 0.29901961, 0.29803922],\n",
              "         ...,\n",
              "         [0.25196078, 0.31862745, 0.30490196],\n",
              "         [0.26764706, 0.33431373, 0.32058824],\n",
              "         [0.27745098, 0.34607843, 0.33235294]],\n",
              "\n",
              "        ...,\n",
              "\n",
              "        [[0.27058824, 0.32352941, 0.35098039],\n",
              "         [0.25098039, 0.31176471, 0.34705882],\n",
              "         [0.26666667, 0.33823529, 0.36372549],\n",
              "         ...,\n",
              "         [0.26960784, 0.33431373, 0.34019608],\n",
              "         [0.24705882, 0.3254902 , 0.32941176],\n",
              "         [0.25686275, 0.33921569, 0.34313725]],\n",
              "\n",
              "        [[0.27058824, 0.32843137, 0.35490196],\n",
              "         [0.23137255, 0.29019608, 0.3254902 ],\n",
              "         [0.26764706, 0.33627451, 0.36372549],\n",
              "         ...,\n",
              "         [0.26372549, 0.33137255, 0.33627451],\n",
              "         [0.2754902 , 0.35196078, 0.35588235],\n",
              "         [0.26470588, 0.34509804, 0.34901961]],\n",
              "\n",
              "        [[0.25882353, 0.32352941, 0.35490196],\n",
              "         [0.24313725, 0.30196078, 0.3372549 ],\n",
              "         [0.27352941, 0.33627451, 0.3627451 ],\n",
              "         ...,\n",
              "         [0.26078431, 0.33137255, 0.33529412],\n",
              "         [0.27058824, 0.34117647, 0.34509804],\n",
              "         [0.28431373, 0.35980392, 0.35882353]]],\n",
              "\n",
              "\n",
              "       [[[0.4127451 , 0.56960784, 0.67941176],\n",
              "         [0.45      , 0.60882353, 0.7127451 ],\n",
              "         [0.46470588, 0.62058824, 0.71568627],\n",
              "         ...,\n",
              "         [0.20392157, 0.29705882, 0.32254902],\n",
              "         [0.19313725, 0.29607843, 0.31764706],\n",
              "         [0.23921569, 0.34901961, 0.36666667]],\n",
              "\n",
              "        [[0.49607843, 0.65098039, 0.76078431],\n",
              "         [0.54901961, 0.70784314, 0.80882353],\n",
              "         [0.40588235, 0.56666667, 0.66470588],\n",
              "         ...,\n",
              "         [0.18333333, 0.2754902 , 0.29215686],\n",
              "         [0.21862745, 0.3245098 , 0.35      ],\n",
              "         [0.26372549, 0.37843137, 0.41372549]],\n",
              "\n",
              "        [[0.48431373, 0.63921569, 0.74607843],\n",
              "         [0.44705882, 0.60392157, 0.70196078],\n",
              "         [0.54411765, 0.70588235, 0.80882353],\n",
              "         ...,\n",
              "         [0.17254902, 0.25588235, 0.25098039],\n",
              "         [0.19215686, 0.28333333, 0.30294118],\n",
              "         [0.19803922, 0.30196078, 0.33529412]],\n",
              "\n",
              "        ...,\n",
              "\n",
              "        [[0.18039216, 0.3254902 , 0.30980392],\n",
              "         [0.20784314, 0.35980392, 0.33039216],\n",
              "         [0.19215686, 0.34607843, 0.32941176],\n",
              "         ...,\n",
              "         [0.23529412, 0.31960784, 0.35686275],\n",
              "         [0.19313725, 0.29019608, 0.33137255],\n",
              "         [0.24019608, 0.33823529, 0.36960784]],\n",
              "\n",
              "        [[0.18823529, 0.3372549 , 0.31372549],\n",
              "         [0.17745098, 0.33431373, 0.30980392],\n",
              "         [0.20196078, 0.35784314, 0.35588235],\n",
              "         ...,\n",
              "         [0.26568627, 0.36176471, 0.37745098],\n",
              "         [0.28333333, 0.38431373, 0.4254902 ],\n",
              "         [0.20686275, 0.29803922, 0.34117647]],\n",
              "\n",
              "        [[0.19901961, 0.35294118, 0.32941176],\n",
              "         [0.17843137, 0.33529412, 0.32941176],\n",
              "         [0.20882353, 0.36960784, 0.38529412],\n",
              "         ...,\n",
              "         [0.2245098 , 0.33333333, 0.37156863],\n",
              "         [0.22352941, 0.33235294, 0.37941176],\n",
              "         [0.24019608, 0.33627451, 0.36568627]]],\n",
              "\n",
              "\n",
              "       [[[0.29117647, 0.40882353, 0.4754902 ],\n",
              "         [0.27156863, 0.38137255, 0.44803922],\n",
              "         [0.27352941, 0.38333333, 0.45      ],\n",
              "         ...,\n",
              "         [0.2127451 , 0.28333333, 0.2872549 ],\n",
              "         [0.22156863, 0.29215686, 0.29607843],\n",
              "         [0.21862745, 0.28921569, 0.29313725]],\n",
              "\n",
              "        [[0.30490196, 0.42254902, 0.48921569],\n",
              "         [0.29019608, 0.4       , 0.46666667],\n",
              "         [0.30490196, 0.41470588, 0.48137255],\n",
              "         ...,\n",
              "         [0.21764706, 0.28823529, 0.29215686],\n",
              "         [0.21568627, 0.28627451, 0.29019608],\n",
              "         [0.21470588, 0.28235294, 0.2872549 ]],\n",
              "\n",
              "        [[0.2872549 , 0.40490196, 0.47156863],\n",
              "         [0.30392157, 0.41372549, 0.48039216],\n",
              "         [0.28235294, 0.39215686, 0.45882353],\n",
              "         ...,\n",
              "         [0.22058824, 0.2872549 , 0.29901961],\n",
              "         [0.21568627, 0.27647059, 0.28823529],\n",
              "         [0.23627451, 0.29509804, 0.30686275]],\n",
              "\n",
              "        ...,\n",
              "\n",
              "        [[0.21764706, 0.31176471, 0.27647059],\n",
              "         [0.25882353, 0.35490196, 0.31568627],\n",
              "         [0.25490196, 0.35392157, 0.31176471],\n",
              "         ...,\n",
              "         [0.28333333, 0.40490196, 0.49117647],\n",
              "         [0.2627451 , 0.38235294, 0.47058824],\n",
              "         [0.26568627, 0.37941176, 0.46176471]],\n",
              "\n",
              "        [[0.2372549 , 0.34313725, 0.30686275],\n",
              "         [0.25294118, 0.35882353, 0.32156863],\n",
              "         [0.2372549 , 0.33823529, 0.30980392],\n",
              "         ...,\n",
              "         [0.23921569, 0.36078431, 0.44313725],\n",
              "         [0.29509804, 0.4127451 , 0.49117647],\n",
              "         [0.28529412, 0.39411765, 0.47156863]],\n",
              "\n",
              "        [[0.2372549 , 0.35294118, 0.31372549],\n",
              "         [0.23627451, 0.34803922, 0.31862745],\n",
              "         [0.23823529, 0.35392157, 0.32843137],\n",
              "         ...,\n",
              "         [0.29313725, 0.4127451 , 0.49117647],\n",
              "         [0.20588235, 0.31960784, 0.38823529],\n",
              "         [0.27058824, 0.37254902, 0.43921569]]]])"
            ]
          },
          "metadata": {
            "tags": []
          },
          "execution_count": 14
        }
      ]
    },
    {
      "cell_type": "code",
      "metadata": {
        "colab": {
          "base_uri": "https://localhost:8080/"
        },
        "id": "t8s0RK3v2S4f",
        "outputId": "8930ec18-139e-4706-e75b-7c15a2197d36"
      },
      "source": [
        "masks"
      ],
      "execution_count": 15,
      "outputs": [
        {
          "output_type": "execute_result",
          "data": {
            "text/plain": [
              "array([[[[0. ],\n",
              "         [0. ],\n",
              "         [0. ],\n",
              "         ...,\n",
              "         [0. ],\n",
              "         [0. ],\n",
              "         [0. ]],\n",
              "\n",
              "        [[0. ],\n",
              "         [0. ],\n",
              "         [0. ],\n",
              "         ...,\n",
              "         [0. ],\n",
              "         [0. ],\n",
              "         [0. ]],\n",
              "\n",
              "        [[0. ],\n",
              "         [0. ],\n",
              "         [0. ],\n",
              "         ...,\n",
              "         [0. ],\n",
              "         [0. ],\n",
              "         [0. ]],\n",
              "\n",
              "        ...,\n",
              "\n",
              "        [[0. ],\n",
              "         [0. ],\n",
              "         [0. ],\n",
              "         ...,\n",
              "         [0. ],\n",
              "         [0. ],\n",
              "         [1. ]],\n",
              "\n",
              "        [[0. ],\n",
              "         [0. ],\n",
              "         [0. ],\n",
              "         ...,\n",
              "         [0. ],\n",
              "         [0. ],\n",
              "         [1. ]],\n",
              "\n",
              "        [[0. ],\n",
              "         [0. ],\n",
              "         [0. ],\n",
              "         ...,\n",
              "         [0. ],\n",
              "         [0. ],\n",
              "         [1. ]]],\n",
              "\n",
              "\n",
              "       [[[0. ],\n",
              "         [0. ],\n",
              "         [0. ],\n",
              "         ...,\n",
              "         [1. ],\n",
              "         [0. ],\n",
              "         [0. ]],\n",
              "\n",
              "        [[0. ],\n",
              "         [0. ],\n",
              "         [0. ],\n",
              "         ...,\n",
              "         [0.5],\n",
              "         [0. ],\n",
              "         [0. ]],\n",
              "\n",
              "        [[0. ],\n",
              "         [0. ],\n",
              "         [0. ],\n",
              "         ...,\n",
              "         [0. ],\n",
              "         [0. ],\n",
              "         [0. ]],\n",
              "\n",
              "        ...,\n",
              "\n",
              "        [[1. ],\n",
              "         [1. ],\n",
              "         [1. ],\n",
              "         ...,\n",
              "         [0. ],\n",
              "         [0. ],\n",
              "         [0. ]],\n",
              "\n",
              "        [[1. ],\n",
              "         [1. ],\n",
              "         [1. ],\n",
              "         ...,\n",
              "         [0. ],\n",
              "         [0. ],\n",
              "         [0. ]],\n",
              "\n",
              "        [[1. ],\n",
              "         [1. ],\n",
              "         [1. ],\n",
              "         ...,\n",
              "         [0. ],\n",
              "         [0. ],\n",
              "         [0. ]]],\n",
              "\n",
              "\n",
              "       [[[0. ],\n",
              "         [0. ],\n",
              "         [0. ],\n",
              "         ...,\n",
              "         [0. ],\n",
              "         [0. ],\n",
              "         [0. ]],\n",
              "\n",
              "        [[0. ],\n",
              "         [0. ],\n",
              "         [0. ],\n",
              "         ...,\n",
              "         [0. ],\n",
              "         [0. ],\n",
              "         [0. ]],\n",
              "\n",
              "        [[0. ],\n",
              "         [0. ],\n",
              "         [0. ],\n",
              "         ...,\n",
              "         [0. ],\n",
              "         [0. ],\n",
              "         [0. ]],\n",
              "\n",
              "        ...,\n",
              "\n",
              "        [[0. ],\n",
              "         [0. ],\n",
              "         [0. ],\n",
              "         ...,\n",
              "         [0. ],\n",
              "         [0. ],\n",
              "         [0. ]],\n",
              "\n",
              "        [[0. ],\n",
              "         [0. ],\n",
              "         [0. ],\n",
              "         ...,\n",
              "         [0. ],\n",
              "         [0. ],\n",
              "         [0. ]],\n",
              "\n",
              "        [[0. ],\n",
              "         [0. ],\n",
              "         [0. ],\n",
              "         ...,\n",
              "         [0. ],\n",
              "         [0. ],\n",
              "         [0. ]]],\n",
              "\n",
              "\n",
              "       ...,\n",
              "\n",
              "\n",
              "       [[[0. ],\n",
              "         [0. ],\n",
              "         [0. ],\n",
              "         ...,\n",
              "         [0. ],\n",
              "         [0. ],\n",
              "         [0. ]],\n",
              "\n",
              "        [[0. ],\n",
              "         [0. ],\n",
              "         [0. ],\n",
              "         ...,\n",
              "         [0. ],\n",
              "         [0. ],\n",
              "         [0. ]],\n",
              "\n",
              "        [[0. ],\n",
              "         [0. ],\n",
              "         [0. ],\n",
              "         ...,\n",
              "         [0. ],\n",
              "         [0. ],\n",
              "         [0. ]],\n",
              "\n",
              "        ...,\n",
              "\n",
              "        [[0. ],\n",
              "         [0. ],\n",
              "         [0. ],\n",
              "         ...,\n",
              "         [0. ],\n",
              "         [0. ],\n",
              "         [0. ]],\n",
              "\n",
              "        [[0. ],\n",
              "         [0. ],\n",
              "         [0. ],\n",
              "         ...,\n",
              "         [0. ],\n",
              "         [0. ],\n",
              "         [0. ]],\n",
              "\n",
              "        [[0. ],\n",
              "         [0. ],\n",
              "         [0. ],\n",
              "         ...,\n",
              "         [0. ],\n",
              "         [0. ],\n",
              "         [0. ]]],\n",
              "\n",
              "\n",
              "       [[[0. ],\n",
              "         [0. ],\n",
              "         [0. ],\n",
              "         ...,\n",
              "         [0. ],\n",
              "         [0. ],\n",
              "         [0. ]],\n",
              "\n",
              "        [[0. ],\n",
              "         [0. ],\n",
              "         [0. ],\n",
              "         ...,\n",
              "         [0. ],\n",
              "         [0. ],\n",
              "         [0. ]],\n",
              "\n",
              "        [[0. ],\n",
              "         [0. ],\n",
              "         [0. ],\n",
              "         ...,\n",
              "         [0. ],\n",
              "         [0. ],\n",
              "         [0. ]],\n",
              "\n",
              "        ...,\n",
              "\n",
              "        [[0. ],\n",
              "         [0. ],\n",
              "         [0. ],\n",
              "         ...,\n",
              "         [0. ],\n",
              "         [0. ],\n",
              "         [0. ]],\n",
              "\n",
              "        [[0. ],\n",
              "         [0. ],\n",
              "         [0. ],\n",
              "         ...,\n",
              "         [0. ],\n",
              "         [0. ],\n",
              "         [0. ]],\n",
              "\n",
              "        [[0. ],\n",
              "         [0. ],\n",
              "         [0. ],\n",
              "         ...,\n",
              "         [0. ],\n",
              "         [0. ],\n",
              "         [0. ]]],\n",
              "\n",
              "\n",
              "       [[[0. ],\n",
              "         [0. ],\n",
              "         [0. ],\n",
              "         ...,\n",
              "         [0. ],\n",
              "         [0. ],\n",
              "         [0. ]],\n",
              "\n",
              "        [[0. ],\n",
              "         [0. ],\n",
              "         [0. ],\n",
              "         ...,\n",
              "         [0. ],\n",
              "         [0. ],\n",
              "         [0. ]],\n",
              "\n",
              "        [[0. ],\n",
              "         [0. ],\n",
              "         [0. ],\n",
              "         ...,\n",
              "         [0. ],\n",
              "         [0. ],\n",
              "         [0. ]],\n",
              "\n",
              "        ...,\n",
              "\n",
              "        [[0. ],\n",
              "         [0. ],\n",
              "         [0. ],\n",
              "         ...,\n",
              "         [0. ],\n",
              "         [0. ],\n",
              "         [0. ]],\n",
              "\n",
              "        [[0. ],\n",
              "         [0. ],\n",
              "         [0. ],\n",
              "         ...,\n",
              "         [0. ],\n",
              "         [0. ],\n",
              "         [0. ]],\n",
              "\n",
              "        [[0. ],\n",
              "         [0. ],\n",
              "         [0. ],\n",
              "         ...,\n",
              "         [0. ],\n",
              "         [0. ],\n",
              "         [0. ]]]])"
            ]
          },
          "metadata": {
            "tags": []
          },
          "execution_count": 15
        }
      ]
    }
  ]
}